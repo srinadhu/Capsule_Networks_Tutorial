{
  "nbformat": 4,
  "nbformat_minor": 0,
  "metadata": {
    "colab": {
      "name": "Copy of Dynamic Routing btw Capsules.ipynb",
      "version": "0.3.2",
      "provenance": [],
      "collapsed_sections": []
    },
    "kernelspec": {
      "name": "python3",
      "display_name": "Python 3"
    },
    "accelerator": "GPU"
  },
  "cells": [
    {
      "metadata": {
        "id": "jUxAYutU5O4w",
        "colab_type": "code",
        "outputId": "1aad723f-cfef-4f1c-c464-11e0c05bfe57",
        "colab": {
          "base_uri": "https://localhost:8080/",
          "height": 88
        }
      },
      "cell_type": "code",
      "source": [
        "# http://pytorch.org/\n",
        "from os.path import exists\n",
        "from wheel.pep425tags import get_abbr_impl, get_impl_ver, get_abi_tag\n",
        "platform = '{}{}-{}'.format(get_abbr_impl(), get_impl_ver(), get_abi_tag())\n",
        "cuda_output = !ldconfig -p|grep cudart.so|sed -e 's/.*\\.\\([0-9]*\\)\\.\\([0-9]*\\)$/cu\\1\\2/'\n",
        "accelerator = cuda_output[0] if exists('/dev/nvidia0') else 'cpu'\n",
        "\n",
        "!pip install -q http://download.pytorch.org/whl/{accelerator}/torch-0.4.1-{platform}-linux_x86_64.whl torchvision\n",
        "import torch\n",
        "print(torch.__version__)\n",
        "print(torch.cuda.is_available())"
      ],
      "execution_count": 1,
      "outputs": [
        {
          "output_type": "stream",
          "text": [
            "tcmalloc: large alloc 1073750016 bytes == 0x57ace000 @  0x7f7edd2be2a4 0x594e17 0x626104 0x51190a 0x4f5277 0x510c78 0x5119bd 0x4f5277 0x4f3338 0x510fb0 0x5119bd 0x4f5277 0x4f3338 0x510fb0 0x5119bd 0x4f5277 0x4f3338 0x510fb0 0x5119bd 0x4f6070 0x510c78 0x5119bd 0x4f5277 0x4f3338 0x510fb0 0x5119bd 0x4f6070 0x4f3338 0x510fb0 0x5119bd 0x4f6070\n",
            "0.4.1\n",
            "True\n"
          ],
          "name": "stdout"
        }
      ]
    },
    {
      "metadata": {
        "id": "7b-J2lx0HuO7",
        "colab_type": "text"
      },
      "cell_type": "markdown",
      "source": [
        "We will code **Capsule Networks** in PyTorch. We will mainly be working with MNIST dataset only in this "
      ]
    },
    {
      "metadata": {
        "id": "XMtLvSH0XBGi",
        "colab_type": "code",
        "colab": {}
      },
      "cell_type": "code",
      "source": [
        "import torch\n",
        "import torch.nn.functional as F\n",
        "from torch import nn\n",
        "from torchvision import transforms, datasets"
      ],
      "execution_count": 0,
      "outputs": []
    },
    {
      "metadata": {
        "id": "2iS9HrO2qHHo",
        "colab_type": "code",
        "outputId": "e8aa8df9-d253-4d24-c06f-ab3a610cc00d",
        "colab": {
          "base_uri": "https://localhost:8080/",
          "height": 119
        }
      },
      "cell_type": "code",
      "source": [
        "import numpy as np\n",
        "\n",
        "def one_hot_transform(labels):\n",
        "    one_hot = torch.zeros(labels.size()+tuple([10])).scatter_(-1, labels, 1)\n",
        "    return one_hot \n",
        "  \n",
        "trainset = datasets.MNIST ( root='../data', train = True, download = True, transform = transforms.Compose([ transforms.ToTensor(), ]),\n",
        "                            target_transform = one_hot_transform)\n",
        "\n",
        "testset = datasets.MNIST ( root='../data', train = False, download = True, transform = transforms.Compose([ transforms.ToTensor(), ]),\n",
        "                            target_transform = one_hot_transform)\n",
        "\n",
        "\n",
        "train_loader = torch.utils.data.DataLoader( trainset, batch_size = 128, shuffle = True, num_workers = 4)\n",
        "\n",
        "test_loader = torch.utils.data.DataLoader( testset, batch_size = 128, shuffle = False, num_workers = 4)\n",
        "\n",
        "\n",
        "device = torch.device(\"cuda\" if torch.cuda.is_available() else \"cpu\")"
      ],
      "execution_count": 3,
      "outputs": [
        {
          "output_type": "stream",
          "text": [
            "Downloading http://yann.lecun.com/exdb/mnist/train-images-idx3-ubyte.gz\n",
            "Downloading http://yann.lecun.com/exdb/mnist/train-labels-idx1-ubyte.gz\n",
            "Downloading http://yann.lecun.com/exdb/mnist/t10k-images-idx3-ubyte.gz\n",
            "Downloading http://yann.lecun.com/exdb/mnist/t10k-labels-idx1-ubyte.gz\n",
            "Processing...\n",
            "Done!\n"
          ],
          "name": "stdout"
        }
      ]
    },
    {
      "metadata": {
        "id": "9TP2rZIWj9tt",
        "colab_type": "code",
        "colab": {}
      },
      "cell_type": "code",
      "source": [
        "class CapsuleLayer(nn.Module):\n",
        "    def __init__(self, num_capsules, num_route_nodes, in_channels, out_channels, kernel_size=None, stride=None,\n",
        "                 num_iterations = 3):\n",
        "        super(CapsuleLayer, self).__init__()\n",
        "\n",
        "        self.num_route_nodes = num_route_nodes\n",
        "        self.num_iterations = num_iterations\n",
        "\n",
        "        self.num_capsules = num_capsules\n",
        "\n",
        "        if num_route_nodes != -1:\n",
        "            self.route_weights = nn.Parameter(torch.randn(num_capsules, num_route_nodes, in_channels, out_channels))\n",
        "        else:\n",
        "            self.capsules = nn.ModuleList(\n",
        "                [nn.Conv2d(in_channels, out_channels, kernel_size=kernel_size, stride=stride, padding=0) for _ in\n",
        "                 range(num_capsules)])\n",
        "\n",
        "    def squash(self, tensor, dim=-1):\n",
        "        squared_norm = (tensor ** 2).sum(dim=dim, keepdim=True)\n",
        "        scale = squared_norm / (1 + squared_norm)\n",
        "        return scale * tensor / torch.sqrt(squared_norm)\n",
        "      \n",
        "    def softmax(self, tensor, dim = 1):\n",
        "      transposed_input = tensor.transpose(dim, len(tensor.size()) - 1)\n",
        "      softmaxed_output = F.softmax(transposed_input.contiguous().view(-1, transposed_input.size(-1)), dim=-1)\n",
        "      return softmaxed_output.view(*transposed_input.size()).transpose(dim, len(tensor.size()) - 1)\n",
        "\n",
        "    def forward(self, x):\n",
        "        if self.num_route_nodes != -1:\n",
        "            priors = x[None, :, :, None, :] @ self.route_weights[:, None, :, :, :]\n",
        "\n",
        "            logits = torch.zeros(*priors.size()).to(device)\n",
        "            for i in range(self.num_iterations):\n",
        "                probs = self.softmax(logits, dim = 2)\n",
        "                outputs = self.squash((probs * priors).sum(dim=2, keepdim=True))\n",
        "\n",
        "                if i != self.num_iterations - 1:\n",
        "                    delta_logits = (priors * outputs).sum(dim=-1, keepdim=True)\n",
        "                    logits = logits + delta_logits\n",
        "        else:\n",
        "            outputs = [capsule(x).view(x.size(0), -1, 1) for capsule in self.capsules]\n",
        "            outputs = torch.cat(outputs, dim=-1)\n",
        "            outputs = self.squash(outputs)\n",
        "\n",
        "        return outputs"
      ],
      "execution_count": 0,
      "outputs": []
    },
    {
      "metadata": {
        "id": "pdqvaG7JnA8p",
        "colab_type": "code",
        "colab": {}
      },
      "cell_type": "code",
      "source": [
        "class CapsuleNet(nn.Module):\n",
        "    def __init__(self):\n",
        "        super(CapsuleNet, self).__init__()\n",
        "\n",
        "        self.conv1 = nn.Conv2d(in_channels = 1, out_channels = 256, kernel_size = 9, stride = 1)\n",
        "        self.primary_capsules = CapsuleLayer(num_capsules = 8, num_route_nodes = -1, in_channels = 256, out_channels = 32,\n",
        "                                             kernel_size = 9, stride = 2)\n",
        "        self.digit_capsules = CapsuleLayer(num_capsules = 10, num_route_nodes = 32 * 6 * 6, in_channels = 8,\n",
        "                                           out_channels = 16)\n",
        "\n",
        "        self.decoder = nn.Sequential( nn.Linear(16 * 10, 512),\n",
        "                                      nn.ReLU(inplace=True),\n",
        "                                      nn.Linear(512, 1024),\n",
        "                                      nn.ReLU(inplace=True),\n",
        "                                      nn.Linear(1024, 784),\n",
        "                                      nn.Sigmoid()\n",
        "                                    )\n",
        "\n",
        "    def forward(self, x, y=None):\n",
        "        x = F.relu(self.conv1(x), inplace=True)\n",
        "        x = self.primary_capsules(x)\n",
        "        x = self.digit_capsules(x).squeeze().transpose(0, 1)\n",
        "\n",
        "        classes = (x ** 2).sum(dim=-1) ** 0.5\n",
        "        classes = F.softmax(classes, dim=-1)\n",
        "\n",
        "        reconstructions = self.decoder((x * y[:, :, None]).view(x.size(0), -1))\n",
        "\n",
        "        return classes, reconstructions"
      ],
      "execution_count": 0,
      "outputs": []
    },
    {
      "metadata": {
        "id": "mNz6N0eekjYv",
        "colab_type": "code",
        "colab": {}
      },
      "cell_type": "code",
      "source": [
        "class CapsLoss(nn.Module):\n",
        "  \n",
        "    def __init__(self):\n",
        "        super(CapsLoss, self).__init__()\n",
        "        self.reconstruction_loss = nn.MSELoss(size_average = False)\n",
        "\n",
        "    def forward(self, images, labels, classes, reconstructions):\n",
        "        left = F.relu(0.9 - classes, inplace = True) ** 2\n",
        "        right = F.relu(classes - 0.1, inplace = True) ** 2\n",
        "\n",
        "        margin_loss = labels * left + 0.5 * (1. - labels) * right\n",
        "        margin_loss = margin_loss.sum()\n",
        "\n",
        "        images = images.view(reconstructions.size()[0], -1)\n",
        "        reconstruction_loss = self.reconstruction_loss(reconstructions, images)\n",
        "\n",
        "        return (margin_loss + 0.0005 * reconstruction_loss) / images.size(0)"
      ],
      "execution_count": 0,
      "outputs": []
    },
    {
      "metadata": {
        "id": "v41ke8qiFA9s",
        "colab_type": "code",
        "outputId": "23585cc4-0be0-48b5-f790-b45f85052c06",
        "colab": {
          "base_uri": "https://localhost:8080/",
          "height": 411
        }
      },
      "cell_type": "code",
      "source": [
        "import torch.optim as optim\n",
        "\n",
        "criterion = CapsLoss()\n",
        "net = CapsuleNet().to(device) #for GPU\n",
        "optimizer = optim.Adam(net.parameters(), lr = 0.001)\n",
        "start_epoch = 0\n",
        "\n",
        "for epoch in range(10):  # fix num-epochs as 10.\n",
        "\n",
        "    # training\n",
        "    net.train()\n",
        "    running_loss = 0.0\n",
        "    count = 0.0\n",
        "    for data in train_loader:\n",
        "        # get the inputs\n",
        "        inputs, labels = data\n",
        "        inputs = inputs.to(device)\n",
        "        labels = labels.to(device)\n",
        "        \n",
        "        # zero the parameter gradients\n",
        "        optimizer.zero_grad()\n",
        "\n",
        "        # forward + backward + optimize\n",
        "        outputs, reconst = net(inputs, labels)\n",
        "        loss = criterion(inputs, labels, outputs, reconst)\n",
        "        \n",
        "        loss.backward()\n",
        "        optimizer.step()\n",
        "\n",
        "        # statistics\n",
        "        running_loss +=  ( loss.item() * inputs.size(0)) #multiply by the batch size\n",
        "        count += sum(np.argmax(labels.data.cpu().numpy(), 1) == np.argmax(outputs.data.cpu().numpy(), 1)) #the accuracy\n",
        "    \n",
        "    print ( \"epoch num: %d, Train loss: %.5f, Training Accuracy is: %.5f \" % (epoch + 1, running_loss/len(trainset), count/len(trainset)) )\n",
        "    \n",
        "    # testing\n",
        "    net.eval()\n",
        "    running_loss = 0.0\n",
        "    count = 0.0\n",
        "    for data in test_loader:\n",
        "        # get the inputs\n",
        "        inputs, labels = data\n",
        "        \n",
        "        inputs = inputs.to(device)\n",
        "        labels = labels.to(device)\n",
        "\n",
        "        # forward \n",
        "        with torch.no_grad():\n",
        "            outputs, reconst = net(inputs, labels)\n",
        "        loss = criterion(inputs, labels, outputs, reconst)\n",
        "\n",
        "        # statistics\n",
        "        running_loss +=  ( loss.item() * inputs.size(0)) #multiply by the batch size\n",
        "        count += sum(np.argmax(labels.data.cpu().numpy(), 1) == np.argmax(outputs.data.cpu().numpy(), 1)) #the accuracy\n",
        "        \n",
        "    print ( \"epoch num: %d, Test loss: %.5f, Testing Accuracy is: %.5f \" % (epoch + 1, running_loss/len(testset), count/len(testset)) )"
      ],
      "execution_count": 7,
      "outputs": [
        {
          "output_type": "stream",
          "text": [
            "/usr/local/lib/python3.6/dist-packages/torch/nn/functional.py:52: UserWarning: size_average and reduce args will be deprecated, please use reduction='sum' instead.\n",
            "  warnings.warn(warning.format(ret))\n"
          ],
          "name": "stderr"
        },
        {
          "output_type": "stream",
          "text": [
            "epoch num: 1, Train loss: 0.50010, Training Accuracy is: 0.93923 \n",
            "epoch num: 1, Test loss: 0.47557, Testing Accuracy is: 0.98520 \n",
            "epoch num: 2, Train loss: 0.47196, Training Accuracy is: 0.98695 \n",
            "epoch num: 2, Test loss: 0.46939, Testing Accuracy is: 0.98850 \n",
            "epoch num: 3, Train loss: 0.46689, Training Accuracy is: 0.99197 \n",
            "epoch num: 3, Test loss: 0.46617, Testing Accuracy is: 0.99130 \n",
            "epoch num: 4, Train loss: 0.46416, Training Accuracy is: 0.99435 \n",
            "epoch num: 4, Test loss: 0.46439, Testing Accuracy is: 0.99290 \n",
            "epoch num: 5, Train loss: 0.46237, Training Accuracy is: 0.99625 \n",
            "epoch num: 5, Test loss: 0.46373, Testing Accuracy is: 0.99160 \n",
            "epoch num: 6, Train loss: 0.46089, Training Accuracy is: 0.99718 \n",
            "epoch num: 6, Test loss: 0.46201, Testing Accuracy is: 0.99210 \n",
            "epoch num: 7, Train loss: 0.45976, Training Accuracy is: 0.99785 \n",
            "epoch num: 7, Test loss: 0.46165, Testing Accuracy is: 0.99300 \n",
            "epoch num: 8, Train loss: 0.45892, Training Accuracy is: 0.99842 \n",
            "epoch num: 8, Test loss: 0.46051, Testing Accuracy is: 0.99370 \n",
            "epoch num: 9, Train loss: 0.45818, Training Accuracy is: 0.99865 \n",
            "epoch num: 9, Test loss: 0.46046, Testing Accuracy is: 0.99320 \n",
            "epoch num: 10, Train loss: 0.45768, Training Accuracy is: 0.99880 \n",
            "epoch num: 10, Test loss: 0.45989, Testing Accuracy is: 0.99370 \n"
          ],
          "name": "stdout"
        }
      ]
    },
    {
      "metadata": {
        "id": "Y76B-TxXhdYn",
        "colab_type": "code",
        "colab": {
          "base_uri": "https://localhost:8080/",
          "height": 369
        },
        "outputId": "4269db88-564d-4a3b-a3cb-05be4f873e7f"
      },
      "cell_type": "code",
      "source": [
        "# now plot the actual data and reconstruction data. \n",
        "\n",
        "import matplotlib\n",
        "import matplotlib.pyplot as plt\n",
        "%matplotlib inline\n",
        "\n",
        "plot_loader = torch.utils.data.DataLoader( trainset, batch_size = 4, shuffle = True, num_workers = 4)\n",
        "\n",
        "net.eval() #evaluating\n",
        "\n",
        "for data in plot_loader:\n",
        "  # get the inputs\n",
        "  inputs, labels = data\n",
        "  inputs = inputs.to(device)\n",
        "  labels = labels.to(device)\n",
        "        \n",
        "  # forward + backward + optimize\n",
        "  outputs, reconst = net(inputs, labels)\n",
        "\n",
        "  break #just take the 4 examples\n",
        "\n",
        "X = np.asarray(inputs.data).astype(np.float32)\n",
        "\n",
        "X_recons = np.asarray(reconst.data.view(-1,28,28)).astype(np.float32)\n",
        "\n",
        "\n",
        "for i in range(X.shape[0]):\n",
        " \n",
        "  plt.subplot(X.shape[0], 2, 2*i+1)\n",
        "  plt.imshow(X[i][0], cmap = 'gray')\n",
        "  plt.title('Actual')\n",
        "  plt.axis('off')\n",
        "\n",
        "  plt.subplot(X.shape[0], 2, 2*i+2)\n",
        "  plt.imshow(X_recons[i], cmap = 'gray')\n",
        "  plt.title(\"ReCons\")\n",
        "  plt.axis('off')\n",
        "  \n",
        "  #plt.subplots_adjust(wspace=0, hspace=0)\n",
        "  plt.gcf().set_size_inches(5, 5)\n",
        "  plt.tight_layout()\n",
        "  \n",
        "plt.show()"
      ],
      "execution_count": 10,
      "outputs": [
        {
          "output_type": "display_data",
          "data": {
            "image/png": "[encoded data removed]",
            "text/plain": [
              "<matplotlib.figure.Figure at 0x7ffb417dccf8>"
            ]
          },
          "metadata": {
            "tags": []
          }
        }
      ]
    },
    {
      "metadata": {
        "id": "_-OPxwnPLnAW",
        "colab_type": "code",
        "colab": {}
      },
      "cell_type": "code",
      "source": [
        ""
      ],
      "execution_count": 0,
      "outputs": []
    }
  ]
}