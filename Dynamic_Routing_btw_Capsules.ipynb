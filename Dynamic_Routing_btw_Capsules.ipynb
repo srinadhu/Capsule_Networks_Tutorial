{
  "nbformat": 4,
  "nbformat_minor": 0,
  "metadata": {
    "colab": {
      "name": "Copy of Dynamic Routing btw Capsules.ipynb",
      "version": "0.3.2",
      "provenance": [],
      "collapsed_sections": []
    },
    "kernelspec": {
      "name": "python3",
      "display_name": "Python 3"
    },
    "accelerator": "GPU"
  },
  "cells": [
    {
      "metadata": {
        "id": "jUxAYutU5O4w",
        "colab_type": "code",
        "outputId": "2236fc0d-3e13-4e05-efe9-5aa3c1d925cc",
        "colab": {
          "base_uri": "https://localhost:8080/",
          "height": 88
        }
      },
      "cell_type": "code",
      "source": [
        "# http://pytorch.org/\n",
        "from os.path import exists\n",
        "from wheel.pep425tags import get_abbr_impl, get_impl_ver, get_abi_tag\n",
        "platform = '{}{}-{}'.format(get_abbr_impl(), get_impl_ver(), get_abi_tag())\n",
        "cuda_output = !ldconfig -p|grep cudart.so|sed -e 's/.*\\.\\([0-9]*\\)\\.\\([0-9]*\\)$/cu\\1\\2/'\n",
        "accelerator = cuda_output[0] if exists('/dev/nvidia0') else 'cpu'\n",
        "\n",
        "!pip install -q http://download.pytorch.org/whl/{accelerator}/torch-0.4.1-{platform}-linux_x86_64.whl torchvision\n",
        "import torch\n",
        "print(torch.__version__)\n",
        "print(torch.cuda.is_available())"
      ],
      "execution_count": 1,
      "outputs": [
        {
          "output_type": "stream",
          "text": [
            "tcmalloc: large alloc 1073750016 bytes == 0x59362000 @  0x7f6bbf98f2a4 0x594e17 0x626104 0x51190a 0x4f5277 0x510c78 0x5119bd 0x4f5277 0x4f3338 0x510fb0 0x5119bd 0x4f5277 0x4f3338 0x510fb0 0x5119bd 0x4f5277 0x4f3338 0x510fb0 0x5119bd 0x4f6070 0x510c78 0x5119bd 0x4f5277 0x4f3338 0x510fb0 0x5119bd 0x4f6070 0x4f3338 0x510fb0 0x5119bd 0x4f6070\n",
            "0.4.1\n",
            "True\n"
          ],
          "name": "stdout"
        }
      ]
    },
    {
      "metadata": {
        "id": "7b-J2lx0HuO7",
        "colab_type": "text"
      },
      "cell_type": "markdown",
      "source": [
        "We will code **Capsule Networks** in PyTorch. We will mainly be working with MNIST dataset only in this "
      ]
    },
    {
      "metadata": {
        "id": "XMtLvSH0XBGi",
        "colab_type": "code",
        "colab": {}
      },
      "cell_type": "code",
      "source": [
        "import torch\n",
        "import torch.nn.functional as F\n",
        "from torch import nn\n",
        "from torchvision import transforms, datasets"
      ],
      "execution_count": 0,
      "outputs": []
    },
    {
      "metadata": {
        "id": "2iS9HrO2qHHo",
        "colab_type": "code",
        "outputId": "07668989-ae1c-46cb-a4ed-3d11a96ee385",
        "colab": {
          "base_uri": "https://localhost:8080/",
          "height": 119
        }
      },
      "cell_type": "code",
      "source": [
        "import numpy as np\n",
        "\n",
        "def one_hot_transform(labels):\n",
        "    one_hot = torch.zeros(labels.size()+tuple([10])).scatter_(-1, labels, 1)\n",
        "    return one_hot \n",
        "  \n",
        "trainset = datasets.MNIST ( root='../data', train = True, download = True, transform = transforms.Compose([transforms.RandomCrop(28, 2), transforms.ToTensor(),]),\n",
        "                            target_transform = one_hot_transform)\n",
        "\n",
        "testset = datasets.MNIST ( root='../data', train = False, download = True, transform = transforms.Compose([transforms.ToTensor(), ]),\n",
        "                            target_transform = one_hot_transform)\n",
        "\n",
        "\n",
        "train_loader = torch.utils.data.DataLoader( trainset, batch_size = 128, shuffle = True, num_workers = 4)\n",
        "\n",
        "test_loader = torch.utils.data.DataLoader( testset, batch_size = 128, shuffle = False, num_workers = 4)\n",
        "\n",
        "\n",
        "device = torch.device(\"cuda\" if torch.cuda.is_available() else \"cpu\")"
      ],
      "execution_count": 3,
      "outputs": [
        {
          "output_type": "stream",
          "text": [
            "Downloading http://yann.lecun.com/exdb/mnist/train-images-idx3-ubyte.gz\n",
            "Downloading http://yann.lecun.com/exdb/mnist/train-labels-idx1-ubyte.gz\n",
            "Downloading http://yann.lecun.com/exdb/mnist/t10k-images-idx3-ubyte.gz\n",
            "Downloading http://yann.lecun.com/exdb/mnist/t10k-labels-idx1-ubyte.gz\n",
            "Processing...\n",
            "Done!\n"
          ],
          "name": "stdout"
        }
      ]
    },
    {
      "metadata": {
        "id": "9TP2rZIWj9tt",
        "colab_type": "code",
        "colab": {}
      },
      "cell_type": "code",
      "source": [
        "class CapsuleLayer(nn.Module):\n",
        "    def __init__(self, num_capsules, num_route_nodes, in_channels, out_channels, kernel_size=None, stride=None,\n",
        "                 num_iterations = 3):\n",
        "        super(CapsuleLayer, self).__init__()\n",
        "\n",
        "        self.num_route_nodes = num_route_nodes\n",
        "        self.num_iterations = num_iterations\n",
        "\n",
        "        self.num_capsules = num_capsules\n",
        "\n",
        "        if num_route_nodes != -1:\n",
        "            self.route_weights = nn.Parameter(torch.randn(num_capsules, num_route_nodes, in_channels, out_channels))\n",
        "        else:\n",
        "            self.capsules = nn.ModuleList(\n",
        "                [nn.Conv2d(in_channels, out_channels, kernel_size=kernel_size, stride=stride, padding=0) for _ in\n",
        "                 range(num_capsules)])\n",
        "\n",
        "    def squash(self, tensor, dim=-1):\n",
        "        squared_norm = (tensor ** 2).sum(dim=dim, keepdim=True)\n",
        "        scale = squared_norm / (1 + squared_norm)\n",
        "        return scale * tensor / torch.sqrt(squared_norm)\n",
        "      \n",
        "    def softmax(self, tensor, dim = 1):\n",
        "      transposed_input = tensor.transpose(dim, len(tensor.size()) - 1)\n",
        "      softmaxed_output = F.softmax(transposed_input.contiguous().view(-1, transposed_input.size(-1)), dim=-1)\n",
        "      return softmaxed_output.view(*transposed_input.size()).transpose(dim, len(tensor.size()) - 1)\n",
        "\n",
        "    def forward(self, x):\n",
        "        if self.num_route_nodes != -1:\n",
        "            priors = x[None, :, :, None, :] @ self.route_weights[:, None, :, :, :]\n",
        "        \n",
        "            logits = torch.zeros(*priors.size()).to(device)\n",
        "            for i in range(self.num_iterations):\n",
        "                probs = self.softmax(logits, dim = 2)\n",
        "                outputs = self.squash((probs * priors).sum(dim=2, keepdim=True))\n",
        "\n",
        "                if i != self.num_iterations - 1:\n",
        "                    delta_logits = (priors * outputs).sum(dim=-1, keepdim=True)\n",
        "                    logits = logits + delta_logits\n",
        "        else:\n",
        "            outputs = [capsule(x).view(x.size(0), -1, 1) for capsule in self.capsules]\n",
        "            outputs = torch.cat(outputs, dim=-1)\n",
        "            outputs = self.squash(outputs)\n",
        "        return outputs"
      ],
      "execution_count": 0,
      "outputs": []
    },
    {
      "metadata": {
        "id": "pdqvaG7JnA8p",
        "colab_type": "code",
        "colab": {}
      },
      "cell_type": "code",
      "source": [
        "class CapsuleNetDecoder(nn.Module):\n",
        "    def __init__(self):\n",
        "        super(CapsuleNetDecoder, self).__init__()\n",
        "\n",
        "        self.conv1 = nn.Conv2d(in_channels = 1, out_channels = 256, kernel_size = 9, stride = 1)\n",
        "        self.primary_capsules = CapsuleLayer(num_capsules = 8, num_route_nodes = -1, in_channels = 256, out_channels = 32,\n",
        "                                             kernel_size = 9, stride = 2)\n",
        "        self.digit_capsules = CapsuleLayer(num_capsules = 10, num_route_nodes = 32 * 6 * 6, in_channels = 8,\n",
        "                                           out_channels = 16)\n",
        "\n",
        "        self.decoder = nn.Sequential( nn.Linear(16 * 10, 512),\n",
        "                                      nn.ReLU(inplace=True),\n",
        "                                      nn.Linear(512, 1024),\n",
        "                                      nn.ReLU(inplace=True),\n",
        "                                      nn.Linear(1024, 784),\n",
        "                                      nn.Sigmoid()\n",
        "                                    )\n",
        "\n",
        "    def forward(self, x, y, recons = True):\n",
        "        x = F.relu(self.conv1(x), inplace=True)\n",
        "        x = self.primary_capsules(x)\n",
        "        x = self.digit_capsules(x).squeeze().transpose(0, 1)\n",
        "\n",
        "        classes = (x ** 2).sum(dim=-1) ** 0.5\n",
        "        classes = F.softmax(classes, dim=-1)\n",
        "        \n",
        "        reconstructions = None\n",
        "        if (recons):\n",
        "          reconstructions = self.decoder((x * y[:, :, None]).view(x.size(0), -1))\n",
        "\n",
        "        return x, classes, reconstructions"
      ],
      "execution_count": 0,
      "outputs": []
    },
    {
      "metadata": {
        "id": "mNz6N0eekjYv",
        "colab_type": "code",
        "colab": {}
      },
      "cell_type": "code",
      "source": [
        "class CapsLoss(nn.Module):\n",
        "  \n",
        "    def __init__(self):\n",
        "        super(CapsLoss, self).__init__()\n",
        "        self.reconstruction_loss = nn.MSELoss(size_average = False)\n",
        "\n",
        "    def forward(self, images, labels, classes, reconstructions):\n",
        "        left = F.relu(0.9 - classes, inplace = True) ** 2\n",
        "        right = F.relu(classes - 0.1, inplace = True) ** 2\n",
        "\n",
        "        margin_loss = labels * left + 0.5 * (1. - labels) * right\n",
        "        margin_loss = margin_loss.sum()\n",
        "\n",
        "        images = images.view(reconstructions.size()[0], -1)\n",
        "        reconstruction_loss = self.reconstruction_loss(reconstructions, images)\n",
        "\n",
        "        return (margin_loss + 0.0005 * reconstruction_loss) / images.size(0)"
      ],
      "execution_count": 0,
      "outputs": []
    },
    {
      "metadata": {
        "id": "v41ke8qiFA9s",
        "colab_type": "code",
        "outputId": "b5c7c2c9-d6bb-42c5-d3ff-e82b9def3c6f",
        "colab": {
          "base_uri": "https://localhost:8080/",
          "height": 581
        }
      },
      "cell_type": "code",
      "source": [
        "import torch.optim as optim\n",
        "\n",
        "criterion = CapsLoss()\n",
        "net = CapsuleNetDecoder().to(device) #for GPU\n",
        "optimizer = optim.Adam(net.parameters(), lr = 0.001)\n",
        "start_epoch = 0\n",
        "\n",
        "for epoch in range(15):  # fix num-epochs as 15.\n",
        "\n",
        "    # training\n",
        "    net.train()\n",
        "    running_loss = 0.0\n",
        "    count = 0.0\n",
        "    for data in train_loader:\n",
        "        # get the inputs\n",
        "        inputs, labels = data\n",
        "        inputs = inputs.to(device)\n",
        "        labels = labels.to(device)\n",
        "        \n",
        "        # zero the parameter gradients\n",
        "        optimizer.zero_grad()\n",
        "\n",
        "        # forward + backward + optimize\n",
        "        x, outputs, reconst = net(inputs, labels)\n",
        "        loss = criterion(inputs, labels, outputs, reconst)\n",
        "        \n",
        "        loss.backward()\n",
        "        optimizer.step()\n",
        "\n",
        "        # statistics\n",
        "        running_loss +=  ( loss.item() * inputs.size(0)) #multiply by the batch size\n",
        "        count += sum(np.argmax(labels.data.cpu().numpy(), 1) == np.argmax(outputs.data.cpu().numpy(), 1)) #the accuracy\n",
        "    \n",
        "    print(\" with recons epoch num: %d, Train loss: %.5f, Training Accuracy is: %.5f \" % (epoch + 1, running_loss/len(trainset), count/len(trainset)) )\n",
        "    \n",
        "    # testing\n",
        "    net.eval()\n",
        "    running_loss = 0.0\n",
        "    count = 0.0\n",
        "    for data in test_loader:\n",
        "        # get the inputs\n",
        "        inputs, labels = data\n",
        "        \n",
        "        inputs = inputs.to(device)\n",
        "        labels = labels.to(device)\n",
        "\n",
        "        # forward \n",
        "        with torch.no_grad():\n",
        "            x, outputs, reconst = net(inputs, labels)\n",
        "        loss = criterion(inputs, labels, outputs, reconst)\n",
        "\n",
        "        # statistics\n",
        "        running_loss +=  ( loss.item() * inputs.size(0)) #multiply by the batch size\n",
        "        count += sum(np.argmax(labels.data.cpu().numpy(), 1) == np.argmax(outputs.data.cpu().numpy(), 1)) #the accuracy\n",
        "        \n",
        "    print(\" with recons epoch num: %d, Test loss: %.5f, Testing Accuracy is: %.5f \" % (epoch + 1, running_loss/len(testset), count/len(testset)) )"
      ],
      "execution_count": 11,
      "outputs": [
        {
          "output_type": "stream",
          "text": [
            "/usr/local/lib/python3.6/dist-packages/torch/nn/functional.py:52: UserWarning: size_average and reduce args will be deprecated, please use reduction='sum' instead.\n",
            "  warnings.warn(warning.format(ret))\n"
          ],
          "name": "stderr"
        },
        {
          "output_type": "stream",
          "text": [
            " with recons epoch num: 1, Train loss: 0.51934, Training Accuracy is: 0.89763 \n",
            " with recons epoch num: 1, Test loss: 0.47845, Testing Accuracy is: 0.98510 \n",
            " with recons epoch num: 2, Train loss: 0.48081, Training Accuracy is: 0.97863 \n",
            " with recons epoch num: 2, Test loss: 0.47313, Testing Accuracy is: 0.98980 \n",
            " with recons epoch num: 3, Train loss: 0.47529, Training Accuracy is: 0.98447 \n",
            " with recons epoch num: 3, Test loss: 0.47024, Testing Accuracy is: 0.99150 \n",
            " with recons epoch num: 4, Train loss: 0.47200, Training Accuracy is: 0.98652 \n",
            " with recons epoch num: 4, Test loss: 0.46794, Testing Accuracy is: 0.99250 \n",
            " with recons epoch num: 5, Train loss: 0.46983, Training Accuracy is: 0.98870 \n",
            " with recons epoch num: 5, Test loss: 0.46721, Testing Accuracy is: 0.99200 \n",
            " with recons epoch num: 6, Train loss: 0.46854, Training Accuracy is: 0.98955 \n",
            " with recons epoch num: 6, Test loss: 0.46569, Testing Accuracy is: 0.99390 \n",
            " with recons epoch num: 7, Train loss: 0.46733, Training Accuracy is: 0.99088 \n",
            " with recons epoch num: 7, Test loss: 0.46477, Testing Accuracy is: 0.99370 \n",
            " with recons epoch num: 8, Train loss: 0.46641, Training Accuracy is: 0.99190 \n",
            " with recons epoch num: 8, Test loss: 0.46463, Testing Accuracy is: 0.99380 \n",
            " with recons epoch num: 9, Train loss: 0.46549, Training Accuracy is: 0.99255 \n",
            " with recons epoch num: 9, Test loss: 0.46399, Testing Accuracy is: 0.99320 \n",
            " with recons epoch num: 10, Train loss: 0.46471, Training Accuracy is: 0.99290 \n",
            " with recons epoch num: 10, Test loss: 0.46288, Testing Accuracy is: 0.99420 \n",
            " with recons epoch num: 11, Train loss: 0.46397, Training Accuracy is: 0.99357 \n",
            " with recons epoch num: 11, Test loss: 0.46264, Testing Accuracy is: 0.99360 \n",
            " with recons epoch num: 12, Train loss: 0.46344, Training Accuracy is: 0.99357 \n",
            " with recons epoch num: 12, Test loss: 0.46235, Testing Accuracy is: 0.99330 \n",
            " with recons epoch num: 13, Train loss: 0.46307, Training Accuracy is: 0.99370 \n",
            " with recons epoch num: 13, Test loss: 0.46165, Testing Accuracy is: 0.99430 \n",
            " with recons epoch num: 14, Train loss: 0.46266, Training Accuracy is: 0.99420 \n",
            " with recons epoch num: 14, Test loss: 0.46144, Testing Accuracy is: 0.99470 \n",
            " with recons epoch num: 15, Train loss: 0.46226, Training Accuracy is: 0.99475 \n",
            " with recons epoch num: 15, Test loss: 0.46128, Testing Accuracy is: 0.99450 \n"
          ],
          "name": "stdout"
        }
      ]
    },
    {
      "metadata": {
        "id": "Y76B-TxXhdYn",
        "colab_type": "code",
        "colab": {
          "base_uri": "https://localhost:8080/",
          "height": 658
        },
        "outputId": "ee2f2c17-4e4a-4ddf-dc18-65976af9cfa7"
      },
      "cell_type": "code",
      "source": [
        "# now plot the actual data and reconstruction data. \n",
        "\n",
        "import matplotlib\n",
        "import matplotlib.pyplot as plt\n",
        "%matplotlib inline\n",
        "\n",
        "plot_loader = torch.utils.data.DataLoader( trainset, batch_size = 4, shuffle = True, num_workers = 4)\n",
        "\n",
        "net.eval() #evaluating\n",
        "\n",
        "for data in plot_loader:\n",
        "  # get the inputs\n",
        "  inputs, labels = data\n",
        "  inputs = inputs.to(device)\n",
        "  labels = labels.to(device)\n",
        "        \n",
        "  # forward + backward + optimize\n",
        "  x, outputs, reconst = net(inputs, labels)\n",
        "\n",
        "  break #just take the 4 examples\n",
        "\n",
        "X = np.asarray(inputs.data).astype(np.float32)\n",
        "\n",
        "X_recons = np.asarray(reconst.data.view(-1,28,28)).astype(np.float32)\n",
        "\n",
        "\n",
        "for i in range(X.shape[0]):\n",
        " \n",
        "  plt.subplot(X.shape[0], 2, 2*i+1)\n",
        "  plt.imshow(X[i][0], cmap = 'gray')\n",
        "  plt.title('Actual')\n",
        "  plt.axis('off')\n",
        "\n",
        "  plt.subplot(X.shape[0], 2, 2*i+2)\n",
        "  plt.imshow(X_recons[i], cmap = 'gray')\n",
        "  plt.title(\"ReCons\")\n",
        "  plt.axis('off')\n",
        "  \n",
        "  #plt.subplots_adjust(wspace=0, hspace=0)\n",
        "  plt.gcf().set_size_inches(5, 5)\n",
        "  plt.tight_layout()\n",
        "  \n",
        "plt.show()"
      ],
      "execution_count": 19,
      "outputs": [
        {
          "output_type": "stream",
          "text": [
            "Exception ignored in: <bound method _DataLoaderIter.__del__ of <torch.utils.data.dataloader._DataLoaderIter object at 0x7f3daac645f8>>\n",
            "Traceback (most recent call last):\n",
            "  File \"/usr/local/lib/python3.6/dist-packages/torch/utils/data/dataloader.py\", line 399, in __del__\n",
            "    self._shutdown_workers()\n",
            "  File \"/usr/local/lib/python3.6/dist-packages/torch/utils/data/dataloader.py\", line 378, in _shutdown_workers\n",
            "    self.worker_result_queue.get()\n",
            "  File \"/usr/lib/python3.6/multiprocessing/queues.py\", line 337, in get\n",
            "    return _ForkingPickler.loads(res)\n",
            "  File \"/usr/local/lib/python3.6/dist-packages/torch/multiprocessing/reductions.py\", line 151, in rebuild_storage_fd\n",
            "    fd = df.detach()\n",
            "  File \"/usr/lib/python3.6/multiprocessing/resource_sharer.py\", line 58, in detach\n",
            "    return reduction.recv_handle(conn)\n",
            "  File \"/usr/lib/python3.6/multiprocessing/reduction.py\", line 182, in recv_handle\n",
            "    return recvfds(s, 1)[0]\n",
            "  File \"/usr/lib/python3.6/multiprocessing/reduction.py\", line 155, in recvfds\n",
            "    raise EOFError\n",
            "EOFError: \n"
          ],
          "name": "stderr"
        },
        {
          "output_type": "display_data",
          "data": {
            "image/png": "[encoded data removed]",
            "text/plain": [
              "<matplotlib.figure.Figure at 0x7f3daac64668>"
            ]
          },
          "metadata": {
            "tags": []
          }
        }
      ]
    },
    {
      "metadata": {
        "id": "k0f-Xvk9yk-W",
        "colab_type": "code",
        "colab": {
          "base_uri": "https://localhost:8080/",
          "height": 541
        },
        "outputId": "3e5970ad-7a20-41c0-a190-b037e7b1f759"
      },
      "cell_type": "code",
      "source": [
        "# now plot the reconstruction data with minor variations.\n",
        "\n",
        "import copy\n",
        "\n",
        "recons_loader = torch.utils.data.DataLoader( trainset, batch_size = 2, shuffle = True)\n",
        "\n",
        "net.eval() #evaluating\n",
        "\n",
        "for data in recons_loader:\n",
        "  # get the inputs\n",
        "  inputs, labels = data\n",
        "  inputs = inputs.to(device)\n",
        "  labels = labels.to(device)\n",
        "        \n",
        "  # forward + backward + optimize\n",
        "  x, _, _ = net(inputs, labels)\n",
        "  x = (x * labels[:, :, None]).view(x.size(0), -1)\n",
        "  \n",
        "  break #just take the 1 example\n",
        "  \n",
        "\n",
        "l = ((labels[0] == 1).nonzero()) #for the label\n",
        "\n",
        "# change it to all the 16 and 1 thing before sending than after sending.\n",
        "\n",
        "X = x\n",
        "for i in range(16): #representing the 16 dimension vector for each digits\n",
        "  \n",
        "  j = -0.25\n",
        "  while (j < 0.25):\n",
        "    temp = copy.deepcopy(x.data)\n",
        "    temp[0][16 * l+ i] += j\n",
        "    temp = temp[0].unsqueeze_(0)\n",
        "   \n",
        "    X = torch.cat((X,temp), dim = 0) \n",
        "    count += 1\n",
        "    j += 0.05\n",
        "  \n",
        "X = X[2:, :] # removing the batch examples\n",
        "\n",
        "\n",
        "X = net.decoder(X)\n",
        "  \n",
        "X = np.asarray(X.data.view(-1,28,28)).astype(np.float32)\n",
        "\n",
        "for i in range(16):\n",
        "  for j in range(10):\n",
        "    plt.subplot(16, 10, (10 * i)+ j + 1)\n",
        "    \n",
        "    plt.imshow(X[10*i + j],cmap= 'gray')\n",
        "    plt.axis('off')\n",
        "\n",
        "  \n",
        "    #plt.subplots_adjust(wspace=0, hspace=0)\n",
        "    plt.gcf().set_size_inches(9, 9)\n",
        "    #lt.tight_layout()\n",
        "  \n",
        "plt.show() "
      ],
      "execution_count": 22,
      "outputs": [
        {
          "output_type": "display_data",
          "data": {
            "image/png": "[encoded data removed]",
            "text/plain": [
              "<matplotlib.figure.Figure at 0x7f3da9f0dcf8>"
            ]
          },
          "metadata": {
            "tags": []
          }
        }
      ]
    },
    {
      "metadata": {
        "id": "awWvlbdERn3E",
        "colab_type": "code",
        "colab": {
          "base_uri": "https://localhost:8080/",
          "height": 581
        },
        "outputId": "a2e71407-a6a1-469c-9978-eb4e6c05e7e8"
      },
      "cell_type": "code",
      "source": [
        "# experiment without reconstruction\n",
        "\n",
        "import torch.optim as optim\n",
        "\n",
        "criterion = CapsLoss()\n",
        "recons_net = CapsuleNetDecoder().to(device) #for GPU\n",
        "optimizer = optim.Adam(recons_net.parameters(), lr = 0.001)\n",
        "start_epoch = 0\n",
        "\n",
        "for epoch in range(15):# fix num-epochs as 15.\n",
        "\n",
        "    # training\n",
        "    recons_net.train()\n",
        "    running_loss = 0.0\n",
        "    count = 0.0\n",
        "    for data in train_loader:\n",
        "        # get the inputs\n",
        "        inputs, labels = data\n",
        "        inputs = inputs.to(device)\n",
        "        labels = labels.to(device)\n",
        "        \n",
        "        # zero the parameter gradients\n",
        "        optimizer.zero_grad()\n",
        "\n",
        "        # forward + backward + optimize\n",
        "        x, outputs, _ = recons_net(inputs, labels, False)\n",
        "        loss = criterion(inputs, labels, outputs, inputs.view(inputs.shape[0], -1))\n",
        "        \n",
        "        loss.backward()\n",
        "        optimizer.step()\n",
        "\n",
        "        # statistics\n",
        "        running_loss +=  ( loss.item() * inputs.size(0)) #multiply by the batch size\n",
        "        count += sum(np.argmax(labels.data.cpu().numpy(), 1) == np.argmax(outputs.data.cpu().numpy(), 1)) #the accuracy\n",
        "    \n",
        "    print(\" without recons epoch num: %d, Train loss: %.5f, Training Accuracy is: %.5f \" % (epoch + 1, running_loss/len(trainset), count/len(trainset)) )\n",
        "    \n",
        "    # testing\n",
        "    recons_net.eval()\n",
        "    running_loss = 0.0\n",
        "    count = 0.0\n",
        "    for data in test_loader:\n",
        "        # get the inputs\n",
        "        inputs, labels = data\n",
        "        \n",
        "        inputs = inputs.to(device)\n",
        "        labels = labels.to(device)\n",
        "\n",
        "        # forward \n",
        "        with torch.no_grad():\n",
        "            x, outputs, _ = recons_net(inputs, labels, False)\n",
        "        loss = criterion(inputs, labels, outputs, inputs.view(inputs.shape[0], -1))\n",
        "\n",
        "        # statistics\n",
        "        running_loss +=  ( loss.item() * inputs.size(0)) #multiply by the batch size\n",
        "        count += sum(np.argmax(labels.data.cpu().numpy(), 1) == np.argmax(outputs.data.cpu().numpy(), 1)) #the accuracy\n",
        "        \n",
        "    print(\" without recons epoch num: %d, Test loss: %.5f, Testing Accuracy is: %.5f \" % (epoch + 1, running_loss/len(testset), count/len(testset)) )"
      ],
      "execution_count": 23,
      "outputs": [
        {
          "output_type": "stream",
          "text": [
            "/usr/local/lib/python3.6/dist-packages/torch/nn/functional.py:52: UserWarning: size_average and reduce args will be deprecated, please use reduction='sum' instead.\n",
            "  warnings.warn(warning.format(ret))\n"
          ],
          "name": "stderr"
        },
        {
          "output_type": "stream",
          "text": [
            " without recons epoch num: 1, Train loss: 0.49189, Training Accuracy is: 0.89522 \n",
            " without recons epoch num: 1, Test loss: 0.45881, Testing Accuracy is: 0.98340 \n",
            " without recons epoch num: 2, Train loss: 0.45845, Training Accuracy is: 0.97882 \n",
            " without recons epoch num: 2, Test loss: 0.45346, Testing Accuracy is: 0.99050 \n",
            " without recons epoch num: 3, Train loss: 0.45496, Training Accuracy is: 0.98490 \n",
            " without recons epoch num: 3, Test loss: 0.45219, Testing Accuracy is: 0.99060 \n",
            " without recons epoch num: 4, Train loss: 0.45341, Training Accuracy is: 0.98678 \n",
            " without recons epoch num: 4, Test loss: 0.45145, Testing Accuracy is: 0.99150 \n",
            " without recons epoch num: 5, Train loss: 0.45247, Training Accuracy is: 0.98848 \n",
            " without recons epoch num: 5, Test loss: 0.45086, Testing Accuracy is: 0.99270 \n",
            " without recons epoch num: 6, Train loss: 0.45184, Training Accuracy is: 0.98948 \n",
            " without recons epoch num: 6, Test loss: 0.45054, Testing Accuracy is: 0.99220 \n",
            " without recons epoch num: 7, Train loss: 0.45133, Training Accuracy is: 0.99047 \n",
            " without recons epoch num: 7, Test loss: 0.45024, Testing Accuracy is: 0.99300 \n",
            " without recons epoch num: 8, Train loss: 0.45083, Training Accuracy is: 0.99132 \n",
            " without recons epoch num: 8, Test loss: 0.45064, Testing Accuracy is: 0.99220 \n",
            " without recons epoch num: 9, Train loss: 0.45051, Training Accuracy is: 0.99248 \n",
            " without recons epoch num: 9, Test loss: 0.44992, Testing Accuracy is: 0.99330 \n",
            " without recons epoch num: 10, Train loss: 0.45019, Training Accuracy is: 0.99268 \n",
            " without recons epoch num: 10, Test loss: 0.44966, Testing Accuracy is: 0.99380 \n",
            " without recons epoch num: 11, Train loss: 0.45000, Training Accuracy is: 0.99297 \n",
            " without recons epoch num: 11, Test loss: 0.44933, Testing Accuracy is: 0.99420 \n",
            " without recons epoch num: 12, Train loss: 0.44980, Training Accuracy is: 0.99315 \n",
            " without recons epoch num: 12, Test loss: 0.44935, Testing Accuracy is: 0.99420 \n",
            " without recons epoch num: 13, Train loss: 0.44962, Training Accuracy is: 0.99353 \n",
            " without recons epoch num: 13, Test loss: 0.44948, Testing Accuracy is: 0.99400 \n",
            " without recons epoch num: 14, Train loss: 0.44944, Training Accuracy is: 0.99377 \n",
            " without recons epoch num: 14, Test loss: 0.44917, Testing Accuracy is: 0.99430 \n",
            " without recons epoch num: 15, Train loss: 0.44926, Training Accuracy is: 0.99448 \n",
            " without recons epoch num: 15, Test loss: 0.44940, Testing Accuracy is: 0.99380 \n"
          ],
          "name": "stdout"
        }
      ]
    },
    {
      "metadata": {
        "id": "MwFYMDk7UtAs",
        "colab_type": "text"
      },
      "cell_type": "markdown",
      "source": [
        "#References\n",
        "\n",
        "This code is taken from [this](https://github.com/gram-ai/capsule-networks) excellent repository and changes are made so that the reconstruction of images and the capsule dimension experiment is also performed. "
      ]
    }
  ]
}